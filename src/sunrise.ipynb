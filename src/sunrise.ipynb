{
 "cells": [
  {
   "cell_type": "code",
   "execution_count": 1,
   "metadata": {},
   "outputs": [],
   "source": [
    "from datetime import timedelta as td\n",
    "import datetime as dt\n",
    "from suntime import Sun"
   ]
  },
  {
   "cell_type": "code",
   "execution_count": 2,
   "metadata": {},
   "outputs": [],
   "source": [
    "# methods of operation\n",
    "def statOutput(currentDatetimeObject, wakeupTimeObject):\n",
    "    print(f'({currentDatetimeObject.date()})==>', 'Sleep at: {} EST'.format(currentDatetimeObject.strftime('%H:%M')))\n",
    "    print(\"Stats: Hours queued to sleep:\", (wakeupTimeObject - currentDatetimeObject).seconds/3600)\n",
    "    print(f'({wakeupTimeObject.date()})==>', 'Wake up at: {} EST'.format(wakeupTimeObject.strftime('%H:%M')))\n",
    "\n",
    "def calculateSleep(remCycles,):\n",
    "    # calculate the amount of needed sleep for optimal performance\n",
    "    hrs, mins = str(float(remCycles*1.5)).split(\".\")\n",
    "    mins = float(str('0.')+str(int(mins)))\n",
    "    mins = int(mins*60)\n",
    "    # correct type\n",
    "    hrs = int(hrs)\n",
    "    # get current datetime time info\n",
    "    rn = dt.datetime.now()\n",
    "    return [hrs,mins,rn]\n",
    "\n",
    "def getTodays(sunrise, latitude,longitude):\n",
    "    # get today's sunrise information\n",
    "    sunrise = Sun(latitude, longitude)\n",
    "    today_sr = sunrise.get_local_sunrise_time()\n",
    "    today_ss = sunrise.get_local_sunset_time()\n",
    "    # return f'({today_sr.date()})==>','Today Sunrise: {} EST \\nSunset: {} EST'.format(today_sr.strftime('%H:%M'), today_ss.strftime('%H:%M'))\n",
    "    return today_sr\n",
    "def getTomorrows(sunrise, latitude,longitude):\n",
    "    tomorrow = dt.date.today() + dt.timedelta(days=1)\n",
    "    tomorrow_sr = sunrise.get_local_sunrise_time(tomorrow)\n",
    "    tomorrow_ss = sunrise.get_local_sunset_time(tomorrow)\n",
    "    # return f'({tomorrow_sr.date()})==>','Tomorrow Sunrise: {} EST \\nSunset: {} EST'.format(tomorrow_sr.strftime('%H:%M'), tomorrow_ss.strftime('%H:%M'))\n",
    "    return tomorrow_sr"
   ]
  },
  {
   "attachments": {},
   "cell_type": "markdown",
   "metadata": {},
   "source": [
    "## CHOOSE YOUR INPUT VALUES"
   ]
  },
  {
   "cell_type": "code",
   "execution_count": 3,
   "metadata": {},
   "outputs": [],
   "source": [
    "# init your latitude and location\n",
    "latitude = 41.03\n",
    "longitude = -74.13"
   ]
  },
  {
   "cell_type": "code",
   "execution_count": 4,
   "metadata": {},
   "outputs": [],
   "source": [
    "# CHOOSE YOUR # REM CYCLES NEEDED\n",
    "remCycles = 4"
   ]
  },
  {
   "cell_type": "code",
   "execution_count": 5,
   "metadata": {},
   "outputs": [
    {
     "data": {
      "text/plain": [
       "datetime.datetime(2023, 3, 19, 7, 2)"
      ]
     },
     "execution_count": 5,
     "metadata": {},
     "output_type": "execute_result"
    }
   ],
   "source": [
    "# init variables\n",
    "sunrise = Sun(latitude, longitude)\n",
    "today_sr = getTodays(sunrise,latitude,longitude)\n",
    "tomorrow_sr = getTomorrows(sunrise,latitude,longitude)\n",
    "# calculate the information\n",
    "calc = calculateSleep(remCycles)\n",
    "hrs = calc[0] \n",
    "mins = calc[1]\n",
    "rn = calc[2]\n",
    "tomorrow_sr.replace(tzinfo=None)  "
   ]
  },
  {
   "cell_type": "code",
   "execution_count": 6,
   "metadata": {},
   "outputs": [
    {
     "name": "stdout",
     "output_type": "stream",
     "text": [
      "Aight just in time for bedtime!\n",
      "(2023-03-18)==> Sleep at: 01:04 EST\n",
      "Stats: Hours queued to sleep: 6.0\n",
      "(2023-03-18)==> Wake up at: 07:04 EST\n",
      "---------------\n"
     ]
    }
   ],
   "source": [
    "# logical check to see if you have passed the required time to sleep\n",
    "# if not enough time make the reccommended time to sleep \n",
    "if (tomorrow_sr.replace(tzinfo=None)-rn).seconds/3600 < ((hrs)+(mins/60)):\n",
    "    print(\"Better get them ZZZS, sunrise is approaching fast!!\")\n",
    "    wakeupTime =  dt.datetime.now() + td(hours=hrs, minutes=mins)\n",
    "    val2Sleep = wakeupTime-td(hours=hrs, minutes=mins)\n",
    "    statOutput(val2Sleep,wakeupTime)\n",
    "# reccomend the time to sleep difference from the time of sunrise. \n",
    "else:\n",
    "    print(\"Aight just in time for bedtime!\")\n",
    "    wakeupTime = today_sr\n",
    "    val2Sleep = today_sr-td(hours=hrs, minutes=mins)\n",
    "    statOutput(val2Sleep,wakeupTime)\n",
    "    print(\"-\"*15)"
   ]
  },
  {
   "cell_type": "code",
   "execution_count": 7,
   "metadata": {},
   "outputs": [],
   "source": [
    "# increment remCycles by 1\n",
    "remCycles+=1"
   ]
  },
  {
   "cell_type": "code",
   "execution_count": 8,
   "metadata": {},
   "outputs": [
    {
     "data": {
      "text/plain": [
       "datetime.datetime(2023, 3, 19, 7, 2)"
      ]
     },
     "execution_count": 8,
     "metadata": {},
     "output_type": "execute_result"
    }
   ],
   "source": [
    "\n",
    "# init variables\n",
    "sunrise = Sun(latitude, longitude)\n",
    "today_sr = getTodays(sunrise,latitude,longitude)\n",
    "tomorrow_sr = getTomorrows(sunrise,latitude,longitude)\n",
    "# calculate the information\n",
    "calc = calculateSleep(remCycles)\n",
    "hrs = calc[0] \n",
    "mins = calc[1]\n",
    "rn = calc[2]\n",
    "tomorrow_sr.replace(tzinfo=None)  "
   ]
  },
  {
   "cell_type": "code",
   "execution_count": 9,
   "metadata": {},
   "outputs": [
    {
     "name": "stdout",
     "output_type": "stream",
     "text": [
      "Better get them ZZZS, sunrise is approaching fast!!\n",
      "(2023-03-18)==> Sleep at: 23:40 EST\n",
      "Stats: Hours queued to sleep: 7.5\n",
      "(2023-03-19)==> Wake up at: 07:10 EST\n"
     ]
    }
   ],
   "source": [
    "# logical check to see if you have passed the required time to sleep\n",
    "# if not enough time make the reccommended time to sleep \n",
    "if (tomorrow_sr.replace(tzinfo=None)-rn).seconds/3600 < ((hrs)+(mins/60)):\n",
    "    print(\"Better get them ZZZS, sunrise is approaching fast!!\")\n",
    "    wakeupTime =  dt.datetime.now() + td(hours=hrs, minutes=mins)\n",
    "    val2Sleep = wakeupTime-td(hours=hrs, minutes=mins)\n",
    "    statOutput(val2Sleep,wakeupTime)\n",
    "# reccomend the time to sleep difference from the time of sunrise. \n",
    "else:\n",
    "    print(\"Aight just in time for bedtime!\")\n",
    "    wakeupTime = today_sr\n",
    "    val2Sleep = today_sr-td(hours=hrs, minutes=mins)\n",
    "    statOutput(val2Sleep,wakeupTime)\n",
    "    print(\"-\"*15)"
   ]
  },
  {
   "cell_type": "code",
   "execution_count": 10,
   "metadata": {},
   "outputs": [],
   "source": [
    "# increment remCycles by 1\n",
    "remCycles+=1"
   ]
  },
  {
   "cell_type": "code",
   "execution_count": 11,
   "metadata": {},
   "outputs": [
    {
     "data": {
      "text/plain": [
       "datetime.datetime(2023, 3, 19, 7, 2)"
      ]
     },
     "execution_count": 11,
     "metadata": {},
     "output_type": "execute_result"
    }
   ],
   "source": [
    "\n",
    "# init variables\n",
    "sunrise = Sun(latitude, longitude)\n",
    "today_sr = getTodays(sunrise,latitude,longitude)\n",
    "tomorrow_sr = getTomorrows(sunrise,latitude,longitude)\n",
    "\n",
    "# calculate the information\n",
    "calc = calculateSleep(remCycles)\n",
    "hrs = calc[0] \n",
    "mins = calc[1]\n",
    "rn = calc[2]\n",
    "tomorrow_sr.replace(tzinfo=None)"
   ]
  },
  {
   "cell_type": "code",
   "execution_count": 12,
   "metadata": {},
   "outputs": [
    {
     "name": "stdout",
     "output_type": "stream",
     "text": [
      "Better get them ZZZS, sunrise is approaching fast!!\n",
      "(2023-03-18)==> Sleep at: 23:40 EST\n",
      "Stats: Hours queued to sleep: 9.0\n",
      "(2023-03-19)==> Wake up at: 08:40 EST\n"
     ]
    }
   ],
   "source": [
    "# logical check to see if you have passed the required time to sleep\n",
    "# if not enough time make the reccommended time to sleep \n",
    "if (tomorrow_sr.replace(tzinfo=None)-rn).seconds/3600 < ((hrs)+(mins/60)):\n",
    "    print(\"Better get them ZZZS, sunrise is approaching fast!!\")\n",
    "    wakeupTime =  dt.datetime.now() + td(hours=hrs, minutes=mins)\n",
    "    val2Sleep = wakeupTime-td(hours=hrs, minutes=mins)\n",
    "    statOutput(val2Sleep,wakeupTime)\n",
    "# reccomend the time to sleep difference from the time of sunrise. \n",
    "else:\n",
    "    print(\"Aight just in time for bedtime!\")\n",
    "    wakeupTime = today_sr\n",
    "    val2Sleep = today_sr-td(hours=hrs, minutes=mins)\n",
    "    statOutput(val2Sleep,wakeupTime)\n",
    "    print(\"-\"*15)"
   ]
  }
 ],
 "metadata": {
  "kernelspec": {
   "display_name": "Python 3",
   "language": "python",
   "name": "python3"
  },
  "language_info": {
   "codemirror_mode": {
    "name": "ipython",
    "version": 3
   },
   "file_extension": ".py",
   "mimetype": "text/x-python",
   "name": "python",
   "nbconvert_exporter": "python",
   "pygments_lexer": "ipython3",
   "version": "3.10.10"
  },
  "orig_nbformat": 4,
  "vscode": {
   "interpreter": {
    "hash": "33ca65a2c0baff120ed6b20263f1513d498f71edf5dada10378e62b176e6e16c"
   }
  }
 },
 "nbformat": 4,
 "nbformat_minor": 2
}
